{
  "metadata": {
    "language_info": {
      "codemirror_mode": {
        "name": "python",
        "version": 3
      },
      "file_extension": ".py",
      "mimetype": "text/x-python",
      "name": "python",
      "nbconvert_exporter": "python",
      "pygments_lexer": "ipython3",
      "version": "3.8"
    },
    "kernelspec": {
      "name": "python",
      "display_name": "Python (Pyodide)",
      "language": "python"
    }
  },
  "nbformat_minor": 4,
  "nbformat": 4,
  "cells": [
    {
      "cell_type": "markdown",
      "source": "# Data Science Tools and Ecosystem",
      "metadata": {
        "tags": []
      }
    },
    {
      "cell_type": "markdown",
      "source": "\"In this notebook, a comprehensive overview of Data Science Tools and the Ecosystem is provided, highlighting key components and concepts.\"",
      "metadata": {}
    },
    {
      "cell_type": "markdown",
      "source": "Some of the popular languages that Data Scientists use are:\n\n1. Python\n2. R\n3. Julia",
      "metadata": {}
    },
    {
      "cell_type": "markdown",
      "source": "![Data Science Infographic](https://www.eoda.de/wp-content/uploads/2019/09/R-Python-Julia-englisch.jpg.png)\n",
      "metadata": {}
    },
    {
      "cell_type": "markdown",
      "source": "Some of the commonly used libraries by Data Scientists include:\n\n1. NumPy\n2. pandas\n3. scikit-learn",
      "metadata": {}
    },
    {
      "cell_type": "markdown",
      "source": "![Data Science Infographic](https://miro.medium.com/v2/resize:fit:1400/1*h3VWUU_SYiNjT-UC2xZcBA.png)",
      "metadata": {}
    },
    {
      "cell_type": "markdown",
      "source": "## Data Science Tools\n\n| Data Science Tools |\n|-------------------|\n| Jupyter Notebook  |\n| RStudio           |\n| VS Code           |",
      "metadata": {}
    },
    {
      "cell_type": "markdown",
      "source": "![Data Science Infographic](https://www.arrikto.com/wp-content/uploads/2021/12/developer-environments-2-1024x254.png)",
      "metadata": {}
    },
    {
      "cell_type": "markdown",
      "source": "### Below are a few examples of evaluating arithmetic expressions in Python",
      "metadata": {}
    },
    {
      "cell_type": "code",
      "source": "# This is a simple arithmetic expression to multiply then add integers.\nresult = (3 * 4) + 5\nresult",
      "metadata": {
        "trusted": true
      },
      "execution_count": 8,
      "outputs": [
        {
          "execution_count": 8,
          "output_type": "execute_result",
          "data": {
            "text/plain": "17"
          },
          "metadata": {}
        }
      ]
    },
    {
      "cell_type": "code",
      "source": "# This will convert 200 minutes to hours by dividing by 60.\nminutes = 200\nhours = minutes / 60\nhours",
      "metadata": {
        "trusted": true
      },
      "execution_count": 10,
      "outputs": [
        {
          "execution_count": 10,
          "output_type": "execute_result",
          "data": {
            "text/plain": "3.3333333333333335"
          },
          "metadata": {}
        }
      ]
    },
    {
      "cell_type": "markdown",
      "source": "## Objectives:\n\n- List popular languages for Data Science.\n- Explore commonly used libraries in Data Science.\n- Introduce essential Data Science tools.\n- Provide examples of arithmetic expressions evaluation.\n- Convert units of time for practical applications.",
      "metadata": {}
    },
    {
      "cell_type": "markdown",
      "source": "![Data Science Infographic](https://i0.wp.com/www.cienciaedados.com/wp-content/uploads/2019/06/Por-Que-e-Como-Data-Science-e-Mais-do-Que-Apenas-Machine-Learning.jpg?fit=1040%2C520&ssl=1)",
      "metadata": {}
    },
    {
      "cell_type": "markdown",
      "source": "## Author\n\n**Lucas Ferreira**\n\n[ https://github.com/cucapiazza ]\n[ https://www.linkedin.com/in/cucapiazza/ ]",
      "metadata": {}
    }
  ]
}